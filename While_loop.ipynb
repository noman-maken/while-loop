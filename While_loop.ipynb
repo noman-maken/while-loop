{
 "cells": [
  {
   "cell_type": "code",
   "execution_count": 1,
   "metadata": {},
   "outputs": [
    {
     "name": "stdout",
     "output_type": "stream",
     "text": [
      "The value of X is 0\n",
      "The value of X is 1\n",
      "The value of X is 2\n",
      "The value of X is 3\n",
      "The value of X is 4\n",
      "The value of X is 5\n",
      "The value of X is 6\n",
      "The value of X is 7\n",
      "The value of X is 8\n",
      "The value of X is 9\n"
     ]
    }
   ],
   "source": [
    "x = 0\n",
    "while x < 10:\n",
    "    print('The value of X is', x)\n",
    "    x += 1"
   ]
  },
  {
   "cell_type": "code",
   "execution_count": 2,
   "metadata": {},
   "outputs": [
    {
     "name": "stdout",
     "output_type": "stream",
     "text": [
      "The value of X is 0\n",
      "The value of X is 11\n",
      "The value of X is 22\n",
      "The value of X is 33\n",
      "The value of X is 44\n",
      "The value of X is 55\n",
      "The value of X is 66\n",
      "The value of X is 77\n",
      "The value of X is 88\n",
      "The value of X is 99\n",
      "All done\n"
     ]
    }
   ],
   "source": [
    "x = 0\n",
    "while x < 110:\n",
    "    print('The value of X is', x)\n",
    "    x += 11\n",
    "else:\n",
    "    print(\"All done\")"
   ]
  },
  {
   "cell_type": "code",
   "execution_count": 3,
   "metadata": {},
   "outputs": [
    {
     "name": "stdout",
     "output_type": "stream",
     "text": [
      "Variable_1 is currently 0\n",
      "Variable_1 is still less then 20, adding 1 to variable_1\n",
      "continuing....\n",
      "Variable_1 is currently 1\n",
      "Variable_1 is still less then 20, adding 1 to variable_1\n",
      "continuing....\n",
      "Variable_1 is currently 2\n",
      "Variable_1 is still less then 20, adding 1 to variable_1\n",
      "continuing....\n",
      "Variable_1 is currently 3\n",
      "Variable_1 is still less then 20, adding 1 to variable_1\n",
      "continuing....\n",
      "Variable_1 is currently 4\n",
      "Variable_1 is still less then 20, adding 1 to variable_1\n",
      "continuing....\n",
      "Variable_1 is currently 5\n",
      "Variable_1 is still less then 20, adding 1 to variable_1\n",
      "continuing....\n",
      "Variable_1 is currently 6\n",
      "Variable_1 is still less then 20, adding 1 to variable_1\n",
      "continuing....\n",
      "Variable_1 is currently 7\n",
      "Variable_1 is still less then 20, adding 1 to variable_1\n",
      "continuing....\n",
      "Variable_1 is currently 8\n",
      "Variable_1 is still less then 20, adding 1 to variable_1\n",
      "continuing....\n",
      "Variable_1 is currently 9\n",
      "Variable_1 is still less then 20, adding 1 to variable_1\n",
      "hey Variable_1 is equal to 9\n",
      "Variable_1 is currently 10\n",
      "Variable_1 is still less then 20, adding 1 to variable_1\n",
      "continuing....\n",
      "Variable_1 is currently 11\n",
      "Variable_1 is still less then 20, adding 1 to variable_1\n",
      "continuing....\n",
      "Variable_1 is currently 12\n",
      "Variable_1 is still less then 20, adding 1 to variable_1\n",
      "continuing....\n",
      "Variable_1 is currently 13\n",
      "Variable_1 is still less then 20, adding 1 to variable_1\n",
      "continuing....\n",
      "Variable_1 is currently 14\n",
      "Variable_1 is still less then 20, adding 1 to variable_1\n",
      "continuing....\n",
      "Variable_1 is currently 15\n",
      "Variable_1 is still less then 20, adding 1 to variable_1\n",
      "continuing....\n",
      "Variable_1 is currently 16\n",
      "Variable_1 is still less then 20, adding 1 to variable_1\n",
      "continuing....\n",
      "Variable_1 is currently 17\n",
      "Variable_1 is still less then 20, adding 1 to variable_1\n",
      "continuing....\n",
      "Variable_1 is currently 18\n",
      "Variable_1 is still less then 20, adding 1 to variable_1\n",
      "continuing....\n",
      "Variable_1 is currently 19\n",
      "Variable_1 is still less then 20, adding 1 to variable_1\n",
      "continuing....\n"
     ]
    }
   ],
   "source": [
    "variable_1 = 0\n",
    "while variable_1 < 20:\n",
    "    print ('Variable_1 is currently', variable_1)\n",
    "    print('Variable_1 is still less then 20, adding 1 to variable_1')\n",
    "    variable_1 += 1\n",
    "    if variable_1 == 10:\n",
    "        print('hey Variable_1 is equal to 9')\n",
    "    else:\n",
    "        print('continuing....')\n",
    "        continue"
   ]
  },
  {
   "cell_type": "code",
   "execution_count": 4,
   "metadata": {},
   "outputs": [
    {
     "name": "stdout",
     "output_type": "stream",
     "text": [
      "Variable_1 is currently 2\n",
      "Variable_1 is still less then 20, adding 1 to variable_1\n",
      "break....\n"
     ]
    }
   ],
   "source": [
    "variable_1 = 2\n",
    "while variable_1 < 200:\n",
    "    print ('Variable_1 is currently', variable_1)\n",
    "    print('Variable_1 is still less then 20, adding 1 to variable_1')\n",
    "    variable_1 += 100\n",
    "    if variable_1 == 100:\n",
    "        print('hey Variable_1 is equal to 9')\n",
    "    else:\n",
    "        print('break....')\n",
    "        break"
   ]
  },
  {
   "cell_type": "code",
   "execution_count": 5,
   "metadata": {},
   "outputs": [
    {
     "name": "stdout",
     "output_type": "stream",
     "text": [
      "0\n",
      "5\n",
      "10\n",
      "15\n",
      "20\n",
      "25\n"
     ]
    }
   ],
   "source": [
    "i = 0\n",
    "while i < 30:\n",
    "    print(i)\n",
    "    i += 5"
   ]
  },
  {
   "cell_type": "code",
   "execution_count": 6,
   "metadata": {},
   "outputs": [
    {
     "name": "stdout",
     "output_type": "stream",
     "text": [
      "Value 1:2\n",
      "The value of X is 2\n",
      "The value of X is 3\n",
      "The value of X is 4\n",
      "The value of X is 5\n",
      "The value of X is 6\n",
      "The value of X is 7\n",
      "The value of X is 8\n",
      "The value of X is 9\n"
     ]
    }
   ],
   "source": [
    "x = int(input(\"Value 1:\"))\n",
    "while x < 10:\n",
    "    print('The value of X is', x)\n",
    "    x = x + 1"
   ]
  },
  {
   "cell_type": "code",
   "execution_count": 8,
   "metadata": {},
   "outputs": [
    {
     "name": "stdout",
     "output_type": "stream",
     "text": [
      "if Condition\n",
      "if Condition\n",
      "if Condition\n",
      "Le bahi else loop chal gai\n"
     ]
    }
   ],
   "source": [
    "counter = 0\n",
    "while counter < 3:\n",
    "    print(\"if Condition\")\n",
    "    counter = counter + 1\n",
    "else:\n",
    "    print(\"Le bahi else loop chal gai\")"
   ]
  },
  {
   "cell_type": "code",
   "execution_count": 15,
   "metadata": {},
   "outputs": [
    {
     "name": "stdout",
     "output_type": "stream",
     "text": [
      "4\n",
      "3\n",
      "2\n",
      "0\n",
      "Loop Ended\n"
     ]
    }
   ],
   "source": [
    "n = 5\n",
    "while n > 0:\n",
    "    n -= 1\n",
    "    if n == 1:\n",
    "        continue\n",
    "    print(n)\n",
    "else:\n",
    "    print('Loop Ended')    "
   ]
  },
  {
   "cell_type": "code",
   "execution_count": 16,
   "metadata": {},
   "outputs": [
    {
     "name": "stdout",
     "output_type": "stream",
     "text": [
      "4\n",
      "3\n",
      "2\n"
     ]
    }
   ],
   "source": [
    "n = 5\n",
    "while n > 0:\n",
    "    n -= 1\n",
    "    if n == 1:\n",
    "        break\n",
    "    print(n)\n",
    "else:\n",
    "    print('Loop Ended')    "
   ]
  },
  {
   "cell_type": "code",
   "execution_count": 25,
   "metadata": {},
   "outputs": [
    {
     "name": "stdout",
     "output_type": "stream",
     "text": [
      "4\n",
      "3\n",
      "2\n"
     ]
    }
   ],
   "source": [
    "n = 5\n",
    "while n > 0:\n",
    "    n -= 1\n",
    "    if n == 1:\n",
    "        break\n",
    "    print(n)\n",
    "else:\n",
    "    print('Loop Ended')    "
   ]
  },
  {
   "cell_type": "code",
   "execution_count": 27,
   "metadata": {},
   "outputs": [],
   "source": [
    "a = ['Noman', 'Usama', 'Atif', 'Hassan', 'Raza', 'Farhan', 'Arslan', 'Faizan']"
   ]
  },
  {
   "cell_type": "code",
   "execution_count": 28,
   "metadata": {},
   "outputs": [
    {
     "data": {
      "text/plain": [
       "['Noman', 'Usama', 'Atif', 'Hassan', 'Raza', 'Farhan', 'Arslan', 'Faizan']"
      ]
     },
     "execution_count": 28,
     "metadata": {},
     "output_type": "execute_result"
    }
   ],
   "source": [
    "a"
   ]
  },
  {
   "cell_type": "code",
   "execution_count": 29,
   "metadata": {},
   "outputs": [
    {
     "name": "stdout",
     "output_type": "stream",
     "text": [
      "Faizan\n",
      "Arslan\n",
      "Farhan\n",
      "Raza\n",
      "Hassan\n",
      "Atif\n",
      "Usama\n",
      "Noman\n"
     ]
    }
   ],
   "source": [
    "a = ['Noman', 'Usama', 'Atif', 'Hassan', 'Raza', 'Farhan', 'Arslan', 'Faizan']\n",
    "while a:\n",
    "    print(a.pop(-1))"
   ]
  },
  {
   "cell_type": "code",
   "execution_count": null,
   "metadata": {},
   "outputs": [],
   "source": []
  }
 ],
 "metadata": {
  "kernelspec": {
   "display_name": "Python 3",
   "language": "python",
   "name": "python3"
  },
  "language_info": {
   "codemirror_mode": {
    "name": "ipython",
    "version": 3
   },
   "file_extension": ".py",
   "mimetype": "text/x-python",
   "name": "python",
   "nbconvert_exporter": "python",
   "pygments_lexer": "ipython3",
   "version": "3.7.6"
  }
 },
 "nbformat": 4,
 "nbformat_minor": 4
}
